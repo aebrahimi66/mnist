{
  "nbformat": 4,
  "nbformat_minor": 0,
  "metadata": {
    "colab": {
      "provenance": [],
      "authorship_tag": "ABX9TyMhIIuoUTcRk7DwqePWwxsI",
      "include_colab_link": true
    },
    "kernelspec": {
      "name": "python3",
      "display_name": "Python 3"
    },
    "language_info": {
      "name": "python"
    }
  },
  "cells": [
    {
      "cell_type": "markdown",
      "metadata": {
        "id": "view-in-github",
        "colab_type": "text"
      },
      "source": [
        "<a href=\"https://colab.research.google.com/github/aebrahimi66/mnist/blob/main/problem_mnist.ipynb\" target=\"_parent\"><img src=\"https://colab.research.google.com/assets/colab-badge.svg\" alt=\"Open In Colab\"/></a>"
      ]
    },
    {
      "cell_type": "code",
      "source": [
        "from fastai.vision.all import *"
      ],
      "metadata": {
        "id": "nand77XDo35M"
      },
      "execution_count": 1,
      "outputs": []
    },
    {
      "cell_type": "code",
      "execution_count": 6,
      "metadata": {
        "colab": {
          "base_uri": "https://localhost:8080/",
          "height": 37
        },
        "id": "qRif4QoBn4Dk",
        "outputId": "9ad702e5-85b9-404b-b165-620dde40c1bc"
      },
      "outputs": [
        {
          "output_type": "display_data",
          "data": {
            "text/plain": [
              "<IPython.core.display.HTML object>"
            ],
            "text/html": [
              "\n",
              "<style>\n",
              "    /* Turns off some styling */\n",
              "    progress {\n",
              "        /* gets rid of default border in Firefox and Opera. */\n",
              "        border: none;\n",
              "        /* Needs to be in here for Safari polyfill so background images work as expected. */\n",
              "        background-size: auto;\n",
              "    }\n",
              "    progress:not([value]), progress:not([value])::-webkit-progress-bar {\n",
              "        background: repeating-linear-gradient(45deg, #7e7e7e, #7e7e7e 10px, #5c5c5c 10px, #5c5c5c 20px);\n",
              "    }\n",
              "    .progress-bar-interrupted, .progress-bar-interrupted::-webkit-progress-bar {\n",
              "        background: #F44336;\n",
              "    }\n",
              "</style>\n"
            ]
          },
          "metadata": {}
        },
        {
          "output_type": "display_data",
          "data": {
            "text/plain": [
              "<IPython.core.display.HTML object>"
            ],
            "text/html": [
              "\n",
              "    <div>\n",
              "      <progress value='3219456' class='' max='3214948' style='width:300px; height:20px; vertical-align: middle;'></progress>\n",
              "      100.14% [3219456/3214948 00:01&lt;00:00]\n",
              "    </div>\n",
              "    "
            ]
          },
          "metadata": {}
        }
      ],
      "source": [
        "path = untar_data(URLs.MNIST_SAMPLE)"
      ]
    },
    {
      "cell_type": "code",
      "source": [
        "path.ls()"
      ],
      "metadata": {
        "id": "5qL1MGd7pO98",
        "colab": {
          "base_uri": "https://localhost:8080/"
        },
        "outputId": "b2f36c36-3fba-47f8-9ae0-5bd62f46a7d3"
      },
      "execution_count": 7,
      "outputs": [
        {
          "output_type": "execute_result",
          "data": {
            "text/plain": [
              "(#3) [Path('/root/.fastai/data/mnist_sample/train'),Path('/root/.fastai/data/mnist_sample/labels.csv'),Path('/root/.fastai/data/mnist_sample/valid')]"
            ]
          },
          "metadata": {},
          "execution_count": 7
        }
      ]
    },
    {
      "cell_type": "code",
      "source": [
        "(path/'train').ls()"
      ],
      "metadata": {
        "colab": {
          "base_uri": "https://localhost:8080/"
        },
        "id": "80jYcxJlpE1u",
        "outputId": "bc12e695-d4f1-434e-c08d-e769e1d14630"
      },
      "execution_count": 9,
      "outputs": [
        {
          "output_type": "execute_result",
          "data": {
            "text/plain": [
              "(#2) [Path('/root/.fastai/data/mnist_sample/train/7'),Path('/root/.fastai/data/mnist_sample/train/3')]"
            ]
          },
          "metadata": {},
          "execution_count": 9
        }
      ]
    },
    {
      "cell_type": "code",
      "source": [
        "threes = (path/'train'/'3').ls().sorted()\n",
        "sevens = (path/'train'/'7').ls().sorted()\n",
        "threes"
      ],
      "metadata": {
        "id": "FHW7tD98pkvV",
        "colab": {
          "base_uri": "https://localhost:8080/"
        },
        "outputId": "851dd421-53ec-4e5c-ec3e-8f386fe8251d"
      },
      "execution_count": 10,
      "outputs": [
        {
          "output_type": "execute_result",
          "data": {
            "text/plain": [
              "(#6131) [Path('/root/.fastai/data/mnist_sample/train/3/10.png'),Path('/root/.fastai/data/mnist_sample/train/3/10000.png'),Path('/root/.fastai/data/mnist_sample/train/3/10011.png'),Path('/root/.fastai/data/mnist_sample/train/3/10031.png'),Path('/root/.fastai/data/mnist_sample/train/3/10034.png'),Path('/root/.fastai/data/mnist_sample/train/3/10042.png'),Path('/root/.fastai/data/mnist_sample/train/3/10052.png'),Path('/root/.fastai/data/mnist_sample/train/3/1007.png'),Path('/root/.fastai/data/mnist_sample/train/3/10074.png'),Path('/root/.fastai/data/mnist_sample/train/3/10091.png')...]"
            ]
          },
          "metadata": {},
          "execution_count": 10
        }
      ]
    },
    {
      "cell_type": "code",
      "source": [
        "im3_path = threes[33]\n",
        "im3 = Image.open(im3_path)\n",
        "im3"
      ],
      "metadata": {
        "id": "2K_Gv-Dipo1r",
        "colab": {
          "base_uri": "https://localhost:8080/",
          "height": 45
        },
        "outputId": "b829c70e-8f83-4b53-b6ea-e0a054e10ec6"
      },
      "execution_count": 15,
      "outputs": [
        {
          "output_type": "execute_result",
          "data": {
            "text/plain": [
              "<PIL.PngImagePlugin.PngImageFile image mode=L size=28x28>"
            ],
            "image/png": "[encoded data removed]"
          },
          "metadata": {},
          "execution_count": 15
        }
      ]
    },
    {
      "cell_type": "code",
      "source": [
        "array(im3)[4:10,4:10]"
      ],
      "metadata": {
        "id": "ZrVseGTyv218",
        "colab": {
          "base_uri": "https://localhost:8080/"
        },
        "outputId": "179667e5-213d-4fc5-f9b5-cad255a64cf3"
      },
      "execution_count": 12,
      "outputs": [
        {
          "output_type": "execute_result",
          "data": {
            "text/plain": [
              "array([[  0,   0,   0,   0,   0,   0],\n",
              "       [  0,   0,   0,   0,   0,  29],\n",
              "       [  0,   0,   0,  48, 166, 224],\n",
              "       [  0,  93, 244, 249, 253, 187],\n",
              "       [  0, 107, 253, 253, 230,  48],\n",
              "       [  0,   3,  20,  20,  15,   0]], dtype=uint8)"
            ]
          },
          "metadata": {},
          "execution_count": 12
        }
      ]
    },
    {
      "cell_type": "code",
      "source": [
        "tensor(im3)[4:10,4:10]"
      ],
      "metadata": {
        "id": "C9rhoqJOv_gr",
        "colab": {
          "base_uri": "https://localhost:8080/"
        },
        "outputId": "db847009-d3da-41d6-af51-7521fe9da5b2"
      },
      "execution_count": 13,
      "outputs": [
        {
          "output_type": "execute_result",
          "data": {
            "text/plain": [
              "tensor([[  0,   0,   0,   0,   0,   0],\n",
              "        [  0,   0,   0,   0,   0,  29],\n",
              "        [  0,   0,   0,  48, 166, 224],\n",
              "        [  0,  93, 244, 249, 253, 187],\n",
              "        [  0, 107, 253, 253, 230,  48],\n",
              "        [  0,   3,  20,  20,  15,   0]], dtype=torch.uint8)"
            ]
          },
          "metadata": {},
          "execution_count": 13
        }
      ]
    },
    {
      "cell_type": "code",
      "source": [
        "im3_t = tensor(im3)\n",
        "df = pd.DataFrame(im3_t[4:15,4:22])\n",
        "df.style.set_properties(**{'font-size':'6pt'}).background_gradient('Greys')"
      ],
      "metadata": {
        "colab": {
          "base_uri": "https://localhost:8080/",
          "height": 394
        },
        "id": "dbkLVpGjsOz0",
        "outputId": "fe6b8368-a56a-4a06-b030-f95c41e3e294"
      },
      "execution_count": 19,
      "outputs": [
        {
          "output_type": "execute_result",
          "data": {
            "text/plain": [
              "<pandas.io.formats.style.Styler at 0x7d10c0252560>"
            ],
            "text/html": [
              "<style type=\"text/css\">\n",
              "#T_0bd1b_row0_col0, #T_0bd1b_row0_col1, #T_0bd1b_row0_col2, #T_0bd1b_row0_col3, #T_0bd1b_row0_col4, #T_0bd1b_row0_col5, #T_0bd1b_row0_col6, #T_0bd1b_row0_col7, #T_0bd1b_row0_col13, #T_0bd1b_row0_col14, #T_0bd1b_row0_col15, #T_0bd1b_row0_col16, #T_0bd1b_row0_col17, #T_0bd1b_row1_col0, #T_0bd1b_row1_col1, #T_0bd1b_row1_col2, #T_0bd1b_row1_col3, #T_0bd1b_row1_col4, #T_0bd1b_row1_col16, #T_0bd1b_row1_col17, #T_0bd1b_row2_col0, #T_0bd1b_row2_col1, #T_0bd1b_row2_col2, #T_0bd1b_row2_col3, #T_0bd1b_row2_col16, #T_0bd1b_row2_col17, #T_0bd1b_row3_col0, #T_0bd1b_row3_col1, #T_0bd1b_row3_col2, #T_0bd1b_row3_col3, #T_0bd1b_row3_col17, #T_0bd1b_row4_col0, #T_0bd1b_row4_col1, #T_0bd1b_row4_col2, #T_0bd1b_row4_col3, #T_0bd1b_row4_col9, #T_0bd1b_row4_col10, #T_0bd1b_row4_col11, #T_0bd1b_row4_col12, #T_0bd1b_row4_col17, #T_0bd1b_row5_col0, #T_0bd1b_row5_col1, #T_0bd1b_row5_col2, #T_0bd1b_row5_col3, #T_0bd1b_row5_col7, #T_0bd1b_row5_col8, #T_0bd1b_row5_col9, #T_0bd1b_row5_col10, #T_0bd1b_row5_col11, #T_0bd1b_row5_col17, #T_0bd1b_row6_col0, #T_0bd1b_row6_col1, #T_0bd1b_row6_col2, #T_0bd1b_row6_col3, #T_0bd1b_row6_col4, #T_0bd1b_row6_col5, #T_0bd1b_row6_col6, #T_0bd1b_row6_col7, #T_0bd1b_row6_col8, #T_0bd1b_row6_col9, #T_0bd1b_row6_col10, #T_0bd1b_row6_col17, #T_0bd1b_row7_col0, #T_0bd1b_row7_col1, #T_0bd1b_row7_col2, #T_0bd1b_row7_col3, #T_0bd1b_row7_col4, #T_0bd1b_row7_col5, #T_0bd1b_row7_col6, #T_0bd1b_row7_col7, #T_0bd1b_row7_col8, #T_0bd1b_row7_col17, #T_0bd1b_row8_col0, #T_0bd1b_row8_col1, #T_0bd1b_row8_col2, #T_0bd1b_row8_col3, #T_0bd1b_row8_col4, #T_0bd1b_row8_col16, #T_0bd1b_row8_col17, #T_0bd1b_row9_col0, #T_0bd1b_row9_col1, #T_0bd1b_row9_col2, #T_0bd1b_row9_col3, #T_0bd1b_row9_col16, #T_0bd1b_row9_col17, #T_0bd1b_row10_col0, #T_0bd1b_row10_col1, #T_0bd1b_row10_col2, #T_0bd1b_row10_col3, #T_0bd1b_row10_col17 {\n",
              "  font-size: 6pt;\n",
              "  background-color: #ffffff;\n",
              "  color: #000000;\n",
              "}\n",
              "#T_0bd1b_row0_col8 {\n",
              "  font-size: 6pt;\n",
              "  background-color: #fdfdfd;\n",
              "  color: #000000;\n",
              "}\n",
              "#T_0bd1b_row0_col9 {\n",
              "  font-size: 6pt;\n",
              "  background-color: #b2b2b2;\n",
              "  color: #000000;\n",
              "}\n",
              "#T_0bd1b_row0_col10 {\n",
              "  font-size: 6pt;\n",
              "  background-color: #1c1c1c;\n",
              "  color: #f1f1f1;\n",
              "}\n",
              "#T_0bd1b_row0_col11 {\n",
              "  font-size: 6pt;\n",
              "  background-color: #3f3f3f;\n",
              "  color: #f1f1f1;\n",
              "}\n",
              "#T_0bd1b_row0_col12, #T_0bd1b_row1_col5 {\n",
              "  font-size: 6pt;\n",
              "  background-color: #f9f9f9;\n",
              "  color: #000000;\n",
              "}\n",
              "#T_0bd1b_row1_col6 {\n",
              "  font-size: 6pt;\n",
              "  background-color: #dedede;\n",
              "  color: #000000;\n",
              "}\n",
              "#T_0bd1b_row1_col7 {\n",
              "  font-size: 6pt;\n",
              "  background-color: #737373;\n",
              "  color: #f1f1f1;\n",
              "}\n",
              "#T_0bd1b_row1_col8 {\n",
              "  font-size: 6pt;\n",
              "  background-color: #5d5d5d;\n",
              "  color: #f1f1f1;\n",
              "}\n",
              "#T_0bd1b_row1_col9, #T_0bd1b_row1_col10, #T_0bd1b_row1_col11, #T_0bd1b_row2_col9, #T_0bd1b_row2_col10, #T_0bd1b_row2_col11, #T_0bd1b_row2_col13, #T_0bd1b_row2_col14, #T_0bd1b_row3_col5, #T_0bd1b_row3_col13, #T_0bd1b_row3_col14, #T_0bd1b_row3_col15, #T_0bd1b_row5_col14, #T_0bd1b_row5_col15, #T_0bd1b_row6_col13, #T_0bd1b_row6_col14, #T_0bd1b_row6_col15, #T_0bd1b_row7_col13, #T_0bd1b_row7_col14, #T_0bd1b_row9_col9, #T_0bd1b_row9_col10, #T_0bd1b_row9_col11, #T_0bd1b_row9_col13, #T_0bd1b_row9_col14, #T_0bd1b_row10_col5, #T_0bd1b_row10_col14, #T_0bd1b_row10_col15 {\n",
              "  font-size: 6pt;\n",
              "  background-color: #010101;\n",
              "  color: #f1f1f1;\n",
              "}\n",
              "#T_0bd1b_row1_col12 {\n",
              "  font-size: 6pt;\n",
              "  background-color: #3c3c3c;\n",
              "  color: #f1f1f1;\n",
              "}\n",
              "#T_0bd1b_row1_col13 {\n",
              "  font-size: 6pt;\n",
              "  background-color: #676767;\n",
              "  color: #f1f1f1;\n",
              "}\n",
              "#T_0bd1b_row1_col14 {\n",
              "  font-size: 6pt;\n",
              "  background-color: #c9c9c9;\n",
              "  color: #000000;\n",
              "}\n",
              "#T_0bd1b_row1_col15 {\n",
              "  font-size: 6pt;\n",
              "  background-color: #f0f0f0;\n",
              "  color: #000000;\n",
              "}\n",
              "#T_0bd1b_row2_col4 {\n",
              "  font-size: 6pt;\n",
              "  background-color: #c6c6c6;\n",
              "  color: #000000;\n",
              "}\n",
              "#T_0bd1b_row2_col5 {\n",
              "  font-size: 6pt;\n",
              "  background-color: #363636;\n",
              "  color: #f1f1f1;\n",
              "}\n",
              "#T_0bd1b_row2_col6, #T_0bd1b_row2_col7, #T_0bd1b_row2_col8, #T_0bd1b_row3_col6, #T_0bd1b_row3_col7, #T_0bd1b_row3_col8, #T_0bd1b_row4_col4, #T_0bd1b_row4_col5, #T_0bd1b_row4_col14, #T_0bd1b_row4_col15, #T_0bd1b_row5_col16, #T_0bd1b_row8_col9, #T_0bd1b_row8_col10, #T_0bd1b_row8_col11, #T_0bd1b_row8_col12, #T_0bd1b_row8_col13, #T_0bd1b_row8_col14, #T_0bd1b_row9_col6, #T_0bd1b_row9_col7, #T_0bd1b_row9_col8, #T_0bd1b_row10_col6, #T_0bd1b_row10_col7 {\n",
              "  font-size: 6pt;\n",
              "  background-color: #000000;\n",
              "  color: #f1f1f1;\n",
              "}\n",
              "#T_0bd1b_row2_col12, #T_0bd1b_row7_col12, #T_0bd1b_row9_col12 {\n",
              "  font-size: 6pt;\n",
              "  background-color: #020202;\n",
              "  color: #f1f1f1;\n",
              "}\n",
              "#T_0bd1b_row2_col15, #T_0bd1b_row3_col9 {\n",
              "  font-size: 6pt;\n",
              "  background-color: #5f5f5f;\n",
              "  color: #f1f1f1;\n",
              "}\n",
              "#T_0bd1b_row3_col4 {\n",
              "  font-size: 6pt;\n",
              "  background-color: #444444;\n",
              "  color: #f1f1f1;\n",
              "}\n",
              "#T_0bd1b_row3_col10 {\n",
              "  font-size: 6pt;\n",
              "  background-color: #515151;\n",
              "  color: #f1f1f1;\n",
              "}\n",
              "#T_0bd1b_row3_col11 {\n",
              "  font-size: 6pt;\n",
              "  background-color: #888888;\n",
              "  color: #f1f1f1;\n",
              "}\n",
              "#T_0bd1b_row3_col12 {\n",
              "  font-size: 6pt;\n",
              "  background-color: #414141;\n",
              "  color: #f1f1f1;\n",
              "}\n",
              "#T_0bd1b_row3_col16, #T_0bd1b_row7_col10 {\n",
              "  font-size: 6pt;\n",
              "  background-color: #a7a7a7;\n",
              "  color: #f1f1f1;\n",
              "}\n",
              "#T_0bd1b_row4_col6 {\n",
              "  font-size: 6pt;\n",
              "  background-color: #181818;\n",
              "  color: #f1f1f1;\n",
              "}\n",
              "#T_0bd1b_row4_col7 {\n",
              "  font-size: 6pt;\n",
              "  background-color: #616161;\n",
              "  color: #f1f1f1;\n",
              "}\n",
              "#T_0bd1b_row4_col8 {\n",
              "  font-size: 6pt;\n",
              "  background-color: #e2e2e2;\n",
              "  color: #000000;\n",
              "}\n",
              "#T_0bd1b_row4_col13 {\n",
              "  font-size: 6pt;\n",
              "  background-color: #adadad;\n",
              "  color: #000000;\n",
              "}\n",
              "#T_0bd1b_row4_col16 {\n",
              "  font-size: 6pt;\n",
              "  background-color: #464646;\n",
              "  color: #f1f1f1;\n",
              "}\n",
              "#T_0bd1b_row5_col4, #T_0bd1b_row7_col16 {\n",
              "  font-size: 6pt;\n",
              "  background-color: #f8f8f8;\n",
              "  color: #000000;\n",
              "}\n",
              "#T_0bd1b_row5_col5 {\n",
              "  font-size: 6pt;\n",
              "  background-color: #c7c7c7;\n",
              "  color: #000000;\n",
              "}\n",
              "#T_0bd1b_row5_col6 {\n",
              "  font-size: 6pt;\n",
              "  background-color: #f6f6f6;\n",
              "  color: #000000;\n",
              "}\n",
              "#T_0bd1b_row5_col12, #T_0bd1b_row8_col5 {\n",
              "  font-size: 6pt;\n",
              "  background-color: #fcfcfc;\n",
              "  color: #000000;\n",
              "}\n",
              "#T_0bd1b_row5_col13 {\n",
              "  font-size: 6pt;\n",
              "  background-color: #b5b5b5;\n",
              "  color: #000000;\n",
              "}\n",
              "#T_0bd1b_row6_col11 {\n",
              "  font-size: 6pt;\n",
              "  background-color: #ececec;\n",
              "  color: #000000;\n",
              "}\n",
              "#T_0bd1b_row6_col12 {\n",
              "  font-size: 6pt;\n",
              "  background-color: #797979;\n",
              "  color: #f1f1f1;\n",
              "}\n",
              "#T_0bd1b_row6_col16 {\n",
              "  font-size: 6pt;\n",
              "  background-color: #787878;\n",
              "  color: #f1f1f1;\n",
              "}\n",
              "#T_0bd1b_row7_col9 {\n",
              "  font-size: 6pt;\n",
              "  background-color: #f3f3f3;\n",
              "  color: #000000;\n",
              "}\n",
              "#T_0bd1b_row7_col11 {\n",
              "  font-size: 6pt;\n",
              "  background-color: #212121;\n",
              "  color: #f1f1f1;\n",
              "}\n",
              "#T_0bd1b_row7_col15 {\n",
              "  font-size: 6pt;\n",
              "  background-color: #404040;\n",
              "  color: #f1f1f1;\n",
              "}\n",
              "#T_0bd1b_row8_col6 {\n",
              "  font-size: 6pt;\n",
              "  background-color: #f1f1f1;\n",
              "  color: #000000;\n",
              "}\n",
              "#T_0bd1b_row8_col7 {\n",
              "  font-size: 6pt;\n",
              "  background-color: #939393;\n",
              "  color: #f1f1f1;\n",
              "}\n",
              "#T_0bd1b_row8_col8 {\n",
              "  font-size: 6pt;\n",
              "  background-color: #3d3d3d;\n",
              "  color: #f1f1f1;\n",
              "}\n",
              "#T_0bd1b_row8_col15 {\n",
              "  font-size: 6pt;\n",
              "  background-color: #eaeaea;\n",
              "  color: #000000;\n",
              "}\n",
              "#T_0bd1b_row9_col4 {\n",
              "  font-size: 6pt;\n",
              "  background-color: #f2f2f2;\n",
              "  color: #000000;\n",
              "}\n",
              "#T_0bd1b_row9_col5 {\n",
              "  font-size: 6pt;\n",
              "  background-color: #545454;\n",
              "  color: #f1f1f1;\n",
              "}\n",
              "#T_0bd1b_row9_col15 {\n",
              "  font-size: 6pt;\n",
              "  background-color: #6c6c6c;\n",
              "  color: #f1f1f1;\n",
              "}\n",
              "#T_0bd1b_row10_col4 {\n",
              "  font-size: 6pt;\n",
              "  background-color: #e9e9e9;\n",
              "  color: #000000;\n",
              "}\n",
              "#T_0bd1b_row10_col8 {\n",
              "  font-size: 6pt;\n",
              "  background-color: #0a0a0a;\n",
              "  color: #f1f1f1;\n",
              "}\n",
              "#T_0bd1b_row10_col9 {\n",
              "  font-size: 6pt;\n",
              "  background-color: #696969;\n",
              "  color: #f1f1f1;\n",
              "}\n",
              "#T_0bd1b_row10_col10 {\n",
              "  font-size: 6pt;\n",
              "  background-color: #cbcbcb;\n",
              "  color: #000000;\n",
              "}\n",
              "#T_0bd1b_row10_col11 {\n",
              "  font-size: 6pt;\n",
              "  background-color: #dfdfdf;\n",
              "  color: #000000;\n",
              "}\n",
              "#T_0bd1b_row10_col12 {\n",
              "  font-size: 6pt;\n",
              "  background-color: #d4d4d4;\n",
              "  color: #000000;\n",
              "}\n",
              "#T_0bd1b_row10_col13 {\n",
              "  font-size: 6pt;\n",
              "  background-color: #222222;\n",
              "  color: #f1f1f1;\n",
              "}\n",
              "#T_0bd1b_row10_col16 {\n",
              "  font-size: 6pt;\n",
              "  background-color: #858585;\n",
              "  color: #f1f1f1;\n",
              "}\n",
              "</style>\n",
              "<table id=\"T_0bd1b\" class=\"dataframe\">\n",
              "  <thead>\n",
              "    <tr>\n",
              "      <th class=\"blank level0\" >&nbsp;</th>\n",
              "      <th id=\"T_0bd1b_level0_col0\" class=\"col_heading level0 col0\" >0</th>\n",
              "      <th id=\"T_0bd1b_level0_col1\" class=\"col_heading level0 col1\" >1</th>\n",
              "      <th id=\"T_0bd1b_level0_col2\" class=\"col_heading level0 col2\" >2</th>\n",
              "      <th id=\"T_0bd1b_level0_col3\" class=\"col_heading level0 col3\" >3</th>\n",
              "      <th id=\"T_0bd1b_level0_col4\" class=\"col_heading level0 col4\" >4</th>\n",
              "      <th id=\"T_0bd1b_level0_col5\" class=\"col_heading level0 col5\" >5</th>\n",
              "      <th id=\"T_0bd1b_level0_col6\" class=\"col_heading level0 col6\" >6</th>\n",
              "      <th id=\"T_0bd1b_level0_col7\" class=\"col_heading level0 col7\" >7</th>\n",
              "      <th id=\"T_0bd1b_level0_col8\" class=\"col_heading level0 col8\" >8</th>\n",
              "      <th id=\"T_0bd1b_level0_col9\" class=\"col_heading level0 col9\" >9</th>\n",
              "      <th id=\"T_0bd1b_level0_col10\" class=\"col_heading level0 col10\" >10</th>\n",
              "      <th id=\"T_0bd1b_level0_col11\" class=\"col_heading level0 col11\" >11</th>\n",
              "      <th id=\"T_0bd1b_level0_col12\" class=\"col_heading level0 col12\" >12</th>\n",
              "      <th id=\"T_0bd1b_level0_col13\" class=\"col_heading level0 col13\" >13</th>\n",
              "      <th id=\"T_0bd1b_level0_col14\" class=\"col_heading level0 col14\" >14</th>\n",
              "      <th id=\"T_0bd1b_level0_col15\" class=\"col_heading level0 col15\" >15</th>\n",
              "      <th id=\"T_0bd1b_level0_col16\" class=\"col_heading level0 col16\" >16</th>\n",
              "      <th id=\"T_0bd1b_level0_col17\" class=\"col_heading level0 col17\" >17</th>\n",
              "    </tr>\n",
              "  </thead>\n",
              "  <tbody>\n",
              "    <tr>\n",
              "      <th id=\"T_0bd1b_level0_row0\" class=\"row_heading level0 row0\" >0</th>\n",
              "      <td id=\"T_0bd1b_row0_col0\" class=\"data row0 col0\" >0</td>\n",
              "      <td id=\"T_0bd1b_row0_col1\" class=\"data row0 col1\" >0</td>\n",
              "      <td id=\"T_0bd1b_row0_col2\" class=\"data row0 col2\" >0</td>\n",
              "      <td id=\"T_0bd1b_row0_col3\" class=\"data row0 col3\" >0</td>\n",
              "      <td id=\"T_0bd1b_row0_col4\" class=\"data row0 col4\" >0</td>\n",
              "      <td id=\"T_0bd1b_row0_col5\" class=\"data row0 col5\" >0</td>\n",
              "      <td id=\"T_0bd1b_row0_col6\" class=\"data row0 col6\" >0</td>\n",
              "      <td id=\"T_0bd1b_row0_col7\" class=\"data row0 col7\" >0</td>\n",
              "      <td id=\"T_0bd1b_row0_col8\" class=\"data row0 col8\" >4</td>\n",
              "      <td id=\"T_0bd1b_row0_col9\" class=\"data row0 col9\" >104</td>\n",
              "      <td id=\"T_0bd1b_row0_col10\" class=\"data row0 col10\" >229</td>\n",
              "      <td id=\"T_0bd1b_row0_col11\" class=\"data row0 col11\" >203</td>\n",
              "      <td id=\"T_0bd1b_row0_col12\" class=\"data row0 col12\" >13</td>\n",
              "      <td id=\"T_0bd1b_row0_col13\" class=\"data row0 col13\" >0</td>\n",
              "      <td id=\"T_0bd1b_row0_col14\" class=\"data row0 col14\" >0</td>\n",
              "      <td id=\"T_0bd1b_row0_col15\" class=\"data row0 col15\" >0</td>\n",
              "      <td id=\"T_0bd1b_row0_col16\" class=\"data row0 col16\" >0</td>\n",
              "      <td id=\"T_0bd1b_row0_col17\" class=\"data row0 col17\" >0</td>\n",
              "    </tr>\n",
              "    <tr>\n",
              "      <th id=\"T_0bd1b_level0_row1\" class=\"row_heading level0 row1\" >1</th>\n",
              "      <td id=\"T_0bd1b_row1_col0\" class=\"data row1 col0\" >0</td>\n",
              "      <td id=\"T_0bd1b_row1_col1\" class=\"data row1 col1\" >0</td>\n",
              "      <td id=\"T_0bd1b_row1_col2\" class=\"data row1 col2\" >0</td>\n",
              "      <td id=\"T_0bd1b_row1_col3\" class=\"data row1 col3\" >0</td>\n",
              "      <td id=\"T_0bd1b_row1_col4\" class=\"data row1 col4\" >0</td>\n",
              "      <td id=\"T_0bd1b_row1_col5\" class=\"data row1 col5\" >13</td>\n",
              "      <td id=\"T_0bd1b_row1_col6\" class=\"data row1 col6\" >57</td>\n",
              "      <td id=\"T_0bd1b_row1_col7\" class=\"data row1 col7\" >157</td>\n",
              "      <td id=\"T_0bd1b_row1_col8\" class=\"data row1 col8\" >179</td>\n",
              "      <td id=\"T_0bd1b_row1_col9\" class=\"data row1 col9\" >252</td>\n",
              "      <td id=\"T_0bd1b_row1_col10\" class=\"data row1 col10\" >252</td>\n",
              "      <td id=\"T_0bd1b_row1_col11\" class=\"data row1 col11\" >252</td>\n",
              "      <td id=\"T_0bd1b_row1_col12\" class=\"data row1 col12\" >207</td>\n",
              "      <td id=\"T_0bd1b_row1_col13\" class=\"data row1 col13\" >169</td>\n",
              "      <td id=\"T_0bd1b_row1_col14\" class=\"data row1 col14\" >82</td>\n",
              "      <td id=\"T_0bd1b_row1_col15\" class=\"data row1 col15\" >32</td>\n",
              "      <td id=\"T_0bd1b_row1_col16\" class=\"data row1 col16\" >0</td>\n",
              "      <td id=\"T_0bd1b_row1_col17\" class=\"data row1 col17\" >0</td>\n",
              "    </tr>\n",
              "    <tr>\n",
              "      <th id=\"T_0bd1b_level0_row2\" class=\"row_heading level0 row2\" >2</th>\n",
              "      <td id=\"T_0bd1b_row2_col0\" class=\"data row2 col0\" >0</td>\n",
              "      <td id=\"T_0bd1b_row2_col1\" class=\"data row2 col1\" >0</td>\n",
              "      <td id=\"T_0bd1b_row2_col2\" class=\"data row2 col2\" >0</td>\n",
              "      <td id=\"T_0bd1b_row2_col3\" class=\"data row2 col3\" >0</td>\n",
              "      <td id=\"T_0bd1b_row2_col4\" class=\"data row2 col4\" >60</td>\n",
              "      <td id=\"T_0bd1b_row2_col5\" class=\"data row2 col5\" >209</td>\n",
              "      <td id=\"T_0bd1b_row2_col6\" class=\"data row2 col6\" >252</td>\n",
              "      <td id=\"T_0bd1b_row2_col7\" class=\"data row2 col7\" >252</td>\n",
              "      <td id=\"T_0bd1b_row2_col8\" class=\"data row2 col8\" >253</td>\n",
              "      <td id=\"T_0bd1b_row2_col9\" class=\"data row2 col9\" >252</td>\n",
              "      <td id=\"T_0bd1b_row2_col10\" class=\"data row2 col10\" >252</td>\n",
              "      <td id=\"T_0bd1b_row2_col11\" class=\"data row2 col11\" >252</td>\n",
              "      <td id=\"T_0bd1b_row2_col12\" class=\"data row2 col12\" >253</td>\n",
              "      <td id=\"T_0bd1b_row2_col13\" class=\"data row2 col13\" >252</td>\n",
              "      <td id=\"T_0bd1b_row2_col14\" class=\"data row2 col14\" >252</td>\n",
              "      <td id=\"T_0bd1b_row2_col15\" class=\"data row2 col15\" >177</td>\n",
              "      <td id=\"T_0bd1b_row2_col16\" class=\"data row2 col16\" >0</td>\n",
              "      <td id=\"T_0bd1b_row2_col17\" class=\"data row2 col17\" >0</td>\n",
              "    </tr>\n",
              "    <tr>\n",
              "      <th id=\"T_0bd1b_level0_row3\" class=\"row_heading level0 row3\" >3</th>\n",
              "      <td id=\"T_0bd1b_row3_col0\" class=\"data row3 col0\" >0</td>\n",
              "      <td id=\"T_0bd1b_row3_col1\" class=\"data row3 col1\" >0</td>\n",
              "      <td id=\"T_0bd1b_row3_col2\" class=\"data row3 col2\" >0</td>\n",
              "      <td id=\"T_0bd1b_row3_col3\" class=\"data row3 col3\" >0</td>\n",
              "      <td id=\"T_0bd1b_row3_col4\" class=\"data row3 col4\" >141</td>\n",
              "      <td id=\"T_0bd1b_row3_col5\" class=\"data row3 col5\" >252</td>\n",
              "      <td id=\"T_0bd1b_row3_col6\" class=\"data row3 col6\" >252</td>\n",
              "      <td id=\"T_0bd1b_row3_col7\" class=\"data row3 col7\" >252</td>\n",
              "      <td id=\"T_0bd1b_row3_col8\" class=\"data row3 col8\" >253</td>\n",
              "      <td id=\"T_0bd1b_row3_col9\" class=\"data row3 col9\" >177</td>\n",
              "      <td id=\"T_0bd1b_row3_col10\" class=\"data row3 col10\" >190</td>\n",
              "      <td id=\"T_0bd1b_row3_col11\" class=\"data row3 col11\" >139</td>\n",
              "      <td id=\"T_0bd1b_row3_col12\" class=\"data row3 col12\" >203</td>\n",
              "      <td id=\"T_0bd1b_row3_col13\" class=\"data row3 col13\" >252</td>\n",
              "      <td id=\"T_0bd1b_row3_col14\" class=\"data row3 col14\" >252</td>\n",
              "      <td id=\"T_0bd1b_row3_col15\" class=\"data row3 col15\" >252</td>\n",
              "      <td id=\"T_0bd1b_row3_col16\" class=\"data row3 col16\" >101</td>\n",
              "      <td id=\"T_0bd1b_row3_col17\" class=\"data row3 col17\" >0</td>\n",
              "    </tr>\n",
              "    <tr>\n",
              "      <th id=\"T_0bd1b_level0_row4\" class=\"row_heading level0 row4\" >4</th>\n",
              "      <td id=\"T_0bd1b_row4_col0\" class=\"data row4 col0\" >0</td>\n",
              "      <td id=\"T_0bd1b_row4_col1\" class=\"data row4 col1\" >0</td>\n",
              "      <td id=\"T_0bd1b_row4_col2\" class=\"data row4 col2\" >0</td>\n",
              "      <td id=\"T_0bd1b_row4_col3\" class=\"data row4 col3\" >0</td>\n",
              "      <td id=\"T_0bd1b_row4_col4\" class=\"data row4 col4\" >179</td>\n",
              "      <td id=\"T_0bd1b_row4_col5\" class=\"data row4 col5\" >253</td>\n",
              "      <td id=\"T_0bd1b_row4_col6\" class=\"data row4 col6\" >231</td>\n",
              "      <td id=\"T_0bd1b_row4_col7\" class=\"data row4 col7\" >175</td>\n",
              "      <td id=\"T_0bd1b_row4_col8\" class=\"data row4 col8\" >51</td>\n",
              "      <td id=\"T_0bd1b_row4_col9\" class=\"data row4 col9\" >0</td>\n",
              "      <td id=\"T_0bd1b_row4_col10\" class=\"data row4 col10\" >0</td>\n",
              "      <td id=\"T_0bd1b_row4_col11\" class=\"data row4 col11\" >0</td>\n",
              "      <td id=\"T_0bd1b_row4_col12\" class=\"data row4 col12\" >0</td>\n",
              "      <td id=\"T_0bd1b_row4_col13\" class=\"data row4 col13\" >108</td>\n",
              "      <td id=\"T_0bd1b_row4_col14\" class=\"data row4 col14\" >253</td>\n",
              "      <td id=\"T_0bd1b_row4_col15\" class=\"data row4 col15\" >253</td>\n",
              "      <td id=\"T_0bd1b_row4_col16\" class=\"data row4 col16\" >176</td>\n",
              "      <td id=\"T_0bd1b_row4_col17\" class=\"data row4 col17\" >0</td>\n",
              "    </tr>\n",
              "    <tr>\n",
              "      <th id=\"T_0bd1b_level0_row5\" class=\"row_heading level0 row5\" >5</th>\n",
              "      <td id=\"T_0bd1b_row5_col0\" class=\"data row5 col0\" >0</td>\n",
              "      <td id=\"T_0bd1b_row5_col1\" class=\"data row5 col1\" >0</td>\n",
              "      <td id=\"T_0bd1b_row5_col2\" class=\"data row5 col2\" >0</td>\n",
              "      <td id=\"T_0bd1b_row5_col3\" class=\"data row5 col3\" >0</td>\n",
              "      <td id=\"T_0bd1b_row5_col4\" class=\"data row5 col4\" >10</td>\n",
              "      <td id=\"T_0bd1b_row5_col5\" class=\"data row5 col5\" >84</td>\n",
              "      <td id=\"T_0bd1b_row5_col6\" class=\"data row5 col6\" >19</td>\n",
              "      <td id=\"T_0bd1b_row5_col7\" class=\"data row5 col7\" >0</td>\n",
              "      <td id=\"T_0bd1b_row5_col8\" class=\"data row5 col8\" >0</td>\n",
              "      <td id=\"T_0bd1b_row5_col9\" class=\"data row5 col9\" >0</td>\n",
              "      <td id=\"T_0bd1b_row5_col10\" class=\"data row5 col10\" >0</td>\n",
              "      <td id=\"T_0bd1b_row5_col11\" class=\"data row5 col11\" >0</td>\n",
              "      <td id=\"T_0bd1b_row5_col12\" class=\"data row5 col12\" >7</td>\n",
              "      <td id=\"T_0bd1b_row5_col13\" class=\"data row5 col13\" >101</td>\n",
              "      <td id=\"T_0bd1b_row5_col14\" class=\"data row5 col14\" >252</td>\n",
              "      <td id=\"T_0bd1b_row5_col15\" class=\"data row5 col15\" >252</td>\n",
              "      <td id=\"T_0bd1b_row5_col16\" class=\"data row5 col16\" >225</td>\n",
              "      <td id=\"T_0bd1b_row5_col17\" class=\"data row5 col17\" >0</td>\n",
              "    </tr>\n",
              "    <tr>\n",
              "      <th id=\"T_0bd1b_level0_row6\" class=\"row_heading level0 row6\" >6</th>\n",
              "      <td id=\"T_0bd1b_row6_col0\" class=\"data row6 col0\" >0</td>\n",
              "      <td id=\"T_0bd1b_row6_col1\" class=\"data row6 col1\" >0</td>\n",
              "      <td id=\"T_0bd1b_row6_col2\" class=\"data row6 col2\" >0</td>\n",
              "      <td id=\"T_0bd1b_row6_col3\" class=\"data row6 col3\" >0</td>\n",
              "      <td id=\"T_0bd1b_row6_col4\" class=\"data row6 col4\" >0</td>\n",
              "      <td id=\"T_0bd1b_row6_col5\" class=\"data row6 col5\" >0</td>\n",
              "      <td id=\"T_0bd1b_row6_col6\" class=\"data row6 col6\" >0</td>\n",
              "      <td id=\"T_0bd1b_row6_col7\" class=\"data row6 col7\" >0</td>\n",
              "      <td id=\"T_0bd1b_row6_col8\" class=\"data row6 col8\" >0</td>\n",
              "      <td id=\"T_0bd1b_row6_col9\" class=\"data row6 col9\" >0</td>\n",
              "      <td id=\"T_0bd1b_row6_col10\" class=\"data row6 col10\" >0</td>\n",
              "      <td id=\"T_0bd1b_row6_col11\" class=\"data row6 col11\" >38</td>\n",
              "      <td id=\"T_0bd1b_row6_col12\" class=\"data row6 col12\" >154</td>\n",
              "      <td id=\"T_0bd1b_row6_col13\" class=\"data row6 col13\" >252</td>\n",
              "      <td id=\"T_0bd1b_row6_col14\" class=\"data row6 col14\" >252</td>\n",
              "      <td id=\"T_0bd1b_row6_col15\" class=\"data row6 col15\" >252</td>\n",
              "      <td id=\"T_0bd1b_row6_col16\" class=\"data row6 col16\" >137</td>\n",
              "      <td id=\"T_0bd1b_row6_col17\" class=\"data row6 col17\" >0</td>\n",
              "    </tr>\n",
              "    <tr>\n",
              "      <th id=\"T_0bd1b_level0_row7\" class=\"row_heading level0 row7\" >7</th>\n",
              "      <td id=\"T_0bd1b_row7_col0\" class=\"data row7 col0\" >0</td>\n",
              "      <td id=\"T_0bd1b_row7_col1\" class=\"data row7 col1\" >0</td>\n",
              "      <td id=\"T_0bd1b_row7_col2\" class=\"data row7 col2\" >0</td>\n",
              "      <td id=\"T_0bd1b_row7_col3\" class=\"data row7 col3\" >0</td>\n",
              "      <td id=\"T_0bd1b_row7_col4\" class=\"data row7 col4\" >0</td>\n",
              "      <td id=\"T_0bd1b_row7_col5\" class=\"data row7 col5\" >0</td>\n",
              "      <td id=\"T_0bd1b_row7_col6\" class=\"data row7 col6\" >0</td>\n",
              "      <td id=\"T_0bd1b_row7_col7\" class=\"data row7 col7\" >0</td>\n",
              "      <td id=\"T_0bd1b_row7_col8\" class=\"data row7 col8\" >0</td>\n",
              "      <td id=\"T_0bd1b_row7_col9\" class=\"data row7 col9\" >26</td>\n",
              "      <td id=\"T_0bd1b_row7_col10\" class=\"data row7 col10\" >113</td>\n",
              "      <td id=\"T_0bd1b_row7_col11\" class=\"data row7 col11\" >225</td>\n",
              "      <td id=\"T_0bd1b_row7_col12\" class=\"data row7 col12\" >253</td>\n",
              "      <td id=\"T_0bd1b_row7_col13\" class=\"data row7 col13\" >252</td>\n",
              "      <td id=\"T_0bd1b_row7_col14\" class=\"data row7 col14\" >252</td>\n",
              "      <td id=\"T_0bd1b_row7_col15\" class=\"data row7 col15\" >202</td>\n",
              "      <td id=\"T_0bd1b_row7_col16\" class=\"data row7 col16\" >13</td>\n",
              "      <td id=\"T_0bd1b_row7_col17\" class=\"data row7 col17\" >0</td>\n",
              "    </tr>\n",
              "    <tr>\n",
              "      <th id=\"T_0bd1b_level0_row8\" class=\"row_heading level0 row8\" >8</th>\n",
              "      <td id=\"T_0bd1b_row8_col0\" class=\"data row8 col0\" >0</td>\n",
              "      <td id=\"T_0bd1b_row8_col1\" class=\"data row8 col1\" >0</td>\n",
              "      <td id=\"T_0bd1b_row8_col2\" class=\"data row8 col2\" >0</td>\n",
              "      <td id=\"T_0bd1b_row8_col3\" class=\"data row8 col3\" >0</td>\n",
              "      <td id=\"T_0bd1b_row8_col4\" class=\"data row8 col4\" >0</td>\n",
              "      <td id=\"T_0bd1b_row8_col5\" class=\"data row8 col5\" >7</td>\n",
              "      <td id=\"T_0bd1b_row8_col6\" class=\"data row8 col6\" >29</td>\n",
              "      <td id=\"T_0bd1b_row8_col7\" class=\"data row8 col7\" >128</td>\n",
              "      <td id=\"T_0bd1b_row8_col8\" class=\"data row8 col8\" >204</td>\n",
              "      <td id=\"T_0bd1b_row8_col9\" class=\"data row8 col9\" >253</td>\n",
              "      <td id=\"T_0bd1b_row8_col10\" class=\"data row8 col10\" >253</td>\n",
              "      <td id=\"T_0bd1b_row8_col11\" class=\"data row8 col11\" >253</td>\n",
              "      <td id=\"T_0bd1b_row8_col12\" class=\"data row8 col12\" >255</td>\n",
              "      <td id=\"T_0bd1b_row8_col13\" class=\"data row8 col13\" >253</td>\n",
              "      <td id=\"T_0bd1b_row8_col14\" class=\"data row8 col14\" >253</td>\n",
              "      <td id=\"T_0bd1b_row8_col15\" class=\"data row8 col15\" >40</td>\n",
              "      <td id=\"T_0bd1b_row8_col16\" class=\"data row8 col16\" >0</td>\n",
              "      <td id=\"T_0bd1b_row8_col17\" class=\"data row8 col17\" >0</td>\n",
              "    </tr>\n",
              "    <tr>\n",
              "      <th id=\"T_0bd1b_level0_row9\" class=\"row_heading level0 row9\" >9</th>\n",
              "      <td id=\"T_0bd1b_row9_col0\" class=\"data row9 col0\" >0</td>\n",
              "      <td id=\"T_0bd1b_row9_col1\" class=\"data row9 col1\" >0</td>\n",
              "      <td id=\"T_0bd1b_row9_col2\" class=\"data row9 col2\" >0</td>\n",
              "      <td id=\"T_0bd1b_row9_col3\" class=\"data row9 col3\" >0</td>\n",
              "      <td id=\"T_0bd1b_row9_col4\" class=\"data row9 col4\" >19</td>\n",
              "      <td id=\"T_0bd1b_row9_col5\" class=\"data row9 col5\" >187</td>\n",
              "      <td id=\"T_0bd1b_row9_col6\" class=\"data row9 col6\" >252</td>\n",
              "      <td id=\"T_0bd1b_row9_col7\" class=\"data row9 col7\" >252</td>\n",
              "      <td id=\"T_0bd1b_row9_col8\" class=\"data row9 col8\" >253</td>\n",
              "      <td id=\"T_0bd1b_row9_col9\" class=\"data row9 col9\" >252</td>\n",
              "      <td id=\"T_0bd1b_row9_col10\" class=\"data row9 col10\" >252</td>\n",
              "      <td id=\"T_0bd1b_row9_col11\" class=\"data row9 col11\" >252</td>\n",
              "      <td id=\"T_0bd1b_row9_col12\" class=\"data row9 col12\" >253</td>\n",
              "      <td id=\"T_0bd1b_row9_col13\" class=\"data row9 col13\" >252</td>\n",
              "      <td id=\"T_0bd1b_row9_col14\" class=\"data row9 col14\" >252</td>\n",
              "      <td id=\"T_0bd1b_row9_col15\" class=\"data row9 col15\" >165</td>\n",
              "      <td id=\"T_0bd1b_row9_col16\" class=\"data row9 col16\" >0</td>\n",
              "      <td id=\"T_0bd1b_row9_col17\" class=\"data row9 col17\" >0</td>\n",
              "    </tr>\n",
              "    <tr>\n",
              "      <th id=\"T_0bd1b_level0_row10\" class=\"row_heading level0 row10\" >10</th>\n",
              "      <td id=\"T_0bd1b_row10_col0\" class=\"data row10 col0\" >0</td>\n",
              "      <td id=\"T_0bd1b_row10_col1\" class=\"data row10 col1\" >0</td>\n",
              "      <td id=\"T_0bd1b_row10_col2\" class=\"data row10 col2\" >0</td>\n",
              "      <td id=\"T_0bd1b_row10_col3\" class=\"data row10 col3\" >0</td>\n",
              "      <td id=\"T_0bd1b_row10_col4\" class=\"data row10 col4\" >29</td>\n",
              "      <td id=\"T_0bd1b_row10_col5\" class=\"data row10 col5\" >252</td>\n",
              "      <td id=\"T_0bd1b_row10_col6\" class=\"data row10 col6\" >252</td>\n",
              "      <td id=\"T_0bd1b_row10_col7\" class=\"data row10 col7\" >252</td>\n",
              "      <td id=\"T_0bd1b_row10_col8\" class=\"data row10 col8\" >244</td>\n",
              "      <td id=\"T_0bd1b_row10_col9\" class=\"data row10 col9\" >168</td>\n",
              "      <td id=\"T_0bd1b_row10_col10\" class=\"data row10 col10\" >80</td>\n",
              "      <td id=\"T_0bd1b_row10_col11\" class=\"data row10 col11\" >56</td>\n",
              "      <td id=\"T_0bd1b_row10_col12\" class=\"data row10 col12\" >69</td>\n",
              "      <td id=\"T_0bd1b_row10_col13\" class=\"data row10 col13\" >224</td>\n",
              "      <td id=\"T_0bd1b_row10_col14\" class=\"data row10 col14\" >252</td>\n",
              "      <td id=\"T_0bd1b_row10_col15\" class=\"data row10 col15\" >252</td>\n",
              "      <td id=\"T_0bd1b_row10_col16\" class=\"data row10 col16\" >126</td>\n",
              "      <td id=\"T_0bd1b_row10_col17\" class=\"data row10 col17\" >0</td>\n",
              "    </tr>\n",
              "  </tbody>\n",
              "</table>\n"
            ]
          },
          "metadata": {},
          "execution_count": 19
        }
      ]
    },
    {
      "cell_type": "code",
      "source": [
        "seven_tensors = [tensor(Image.open(o)) for o in sevens]\n",
        "three_tensors = [tensor(Image.open(o)) for o in threes]\n",
        "len(three_tensors),len(seven_tensors)"
      ],
      "metadata": {
        "colab": {
          "base_uri": "https://localhost:8080/"
        },
        "id": "DbQWqW5M9C4U",
        "outputId": "d84f9eae-10f9-4828-9ec4-3779b3d926c5"
      },
      "execution_count": 21,
      "outputs": [
        {
          "output_type": "execute_result",
          "data": {
            "text/plain": [
              "(6131, 6265)"
            ]
          },
          "metadata": {},
          "execution_count": 21
        }
      ]
    },
    {
      "cell_type": "code",
      "source": [
        "show_image(three_tensors[1]);"
      ],
      "metadata": {
        "colab": {
          "base_uri": "https://localhost:8080/",
          "height": 114
        },
        "id": "u-yYHZcTq6As",
        "outputId": "7be70086-2253-43fb-b367-655b8bdb7a9d"
      },
      "execution_count": 22,
      "outputs": [
        {
          "output_type": "display_data",
          "data": {
            "text/plain": [
              "<Figure size 100x100 with 1 Axes>"
            ],
            "image/png": "[encoded data removed]"
          },
          "metadata": {}
        }
      ]
    },
    {
      "cell_type": "code",
      "source": [
        "stacked_sevens = torch.stack(seven_tensors).float()/255\n",
        "stacked_threes = torch.stack(three_tensors).float()/255\n",
        "stacked_threes.shape\n",
        "\n"
      ],
      "metadata": {
        "colab": {
          "base_uri": "https://localhost:8080/"
        },
        "id": "-N71vd1KqFRs",
        "outputId": "3cdd08e2-5c67-49f2-8941-c0ab33d45bf0"
      },
      "execution_count": 23,
      "outputs": [
        {
          "output_type": "execute_result",
          "data": {
            "text/plain": [
              "torch.Size([6131, 28, 28])"
            ]
          },
          "metadata": {},
          "execution_count": 23
        }
      ]
    },
    {
      "cell_type": "code",
      "source": [
        "len(stacked_threes.shape)"
      ],
      "metadata": {
        "colab": {
          "base_uri": "https://localhost:8080/"
        },
        "id": "Yc8W6M-QROfR",
        "outputId": "9794f3b7-294c-48c0-f7f8-c05301200c95"
      },
      "execution_count": 24,
      "outputs": [
        {
          "output_type": "execute_result",
          "data": {
            "text/plain": [
              "3"
            ]
          },
          "metadata": {},
          "execution_count": 24
        }
      ]
    },
    {
      "cell_type": "code",
      "source": [
        "stacked_threes.ndim"
      ],
      "metadata": {
        "colab": {
          "base_uri": "https://localhost:8080/"
        },
        "id": "mLPhp9A9RTR5",
        "outputId": "1744c4f4-7aa0-44ed-f34b-64f004faf736"
      },
      "execution_count": 25,
      "outputs": [
        {
          "output_type": "execute_result",
          "data": {
            "text/plain": [
              "3"
            ]
          },
          "metadata": {},
          "execution_count": 25
        }
      ]
    },
    {
      "cell_type": "code",
      "source": [
        "mean3 = stacked_threes.mean(0)\n",
        "show_image(mean3);"
      ],
      "metadata": {
        "colab": {
          "base_uri": "https://localhost:8080/",
          "height": 114
        },
        "id": "xw2SzLZMRWgA",
        "outputId": "5bca4174-03a3-49e1-98a5-7149c089fba2"
      },
      "execution_count": 26,
      "outputs": [
        {
          "output_type": "display_data",
          "data": {
            "text/plain": [
              "<Figure size 100x100 with 1 Axes>"
            ],
            "image/png": "[encoded data removed]"
          },
          "metadata": {}
        }
      ]
    },
    {
      "cell_type": "code",
      "source": [
        "mean7 = stacked_sevens.mean(0)\n",
        "show_image(mean7);"
      ],
      "metadata": {
        "colab": {
          "base_uri": "https://localhost:8080/",
          "height": 114
        },
        "id": "MmdICksDSok5",
        "outputId": "ed6650d5-2d67-421e-bd13-eb6fa00e30ec"
      },
      "execution_count": 27,
      "outputs": [
        {
          "output_type": "display_data",
          "data": {
            "text/plain": [
              "<Figure size 100x100 with 1 Axes>"
            ],
            "image/png": "[encoded data removed]"
          },
          "metadata": {}
        }
      ]
    },
    {
      "cell_type": "code",
      "source": [
        "a_3 = stacked_threes[1]\n",
        "show_image(a_3);"
      ],
      "metadata": {
        "colab": {
          "base_uri": "https://localhost:8080/",
          "height": 114
        },
        "id": "g66WPnTeTldS",
        "outputId": "ea058f26-3739-41ef-e56f-9a1e5022eb14"
      },
      "execution_count": 28,
      "outputs": [
        {
          "output_type": "display_data",
          "data": {
            "text/plain": [
              "<Figure size 100x100 with 1 Axes>"
            ],
            "image/png": "[encoded data removed]"
          },
          "metadata": {}
        }
      ]
    },
    {
      "cell_type": "code",
      "source": [
        "dist_3_abs = (a_3 - mean3).abs().mean()\n",
        "dist_3_sqr = ((a_3 - mean3)**2).mean().sqrt()\n",
        "dist_3_abs,dist_3_sqr"
      ],
      "metadata": {
        "colab": {
          "base_uri": "https://localhost:8080/"
        },
        "id": "HDlRlRiefAgy",
        "outputId": "a743e972-49a6-46ce-fb6d-81edbb9f6f58"
      },
      "execution_count": 29,
      "outputs": [
        {
          "output_type": "execute_result",
          "data": {
            "text/plain": [
              "(tensor(0.1114), tensor(0.2021))"
            ]
          },
          "metadata": {},
          "execution_count": 29
        }
      ]
    },
    {
      "cell_type": "code",
      "source": [
        "dist_7_abs = (a_3 - mean7).abs().mean()\n",
        "dist_7_sqr = ((a_3 - mean7)**2).mean().sqrt()\n",
        "dist_7_abs,dist_7_sqr"
      ],
      "metadata": {
        "colab": {
          "base_uri": "https://localhost:8080/"
        },
        "id": "dZafMzCofDty",
        "outputId": "8923793e-c3cc-491b-9fee-6b1f4a5291af"
      },
      "execution_count": 30,
      "outputs": [
        {
          "output_type": "execute_result",
          "data": {
            "text/plain": [
              "(tensor(0.1586), tensor(0.3021))"
            ]
          },
          "metadata": {},
          "execution_count": 30
        }
      ]
    },
    {
      "cell_type": "code",
      "source": [
        "F.l1_loss(a_3.float(),mean7), F.mse_loss(a_3,mean7).sqrt()"
      ],
      "metadata": {
        "id": "MCf0aXzufFnK",
        "outputId": "3436491a-a471-4790-f0ce-70fbb9506958",
        "colab": {
          "base_uri": "https://localhost:8080/"
        }
      },
      "execution_count": 31,
      "outputs": [
        {
          "output_type": "execute_result",
          "data": {
            "text/plain": [
              "(tensor(0.1586), tensor(0.3021))"
            ]
          },
          "metadata": {},
          "execution_count": 31
        }
      ]
    }
  ]
}